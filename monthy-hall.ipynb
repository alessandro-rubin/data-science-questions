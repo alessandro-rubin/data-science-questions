{
 "cells": [
  {
   "cell_type": "markdown",
   "metadata": {},
   "source": [
    "# A study of the monthy hall problem"
   ]
  },
  {
   "cell_type": "markdown",
   "metadata": {},
   "source": [
    "In this notebook I study the monthy hall problem and the importance of the basis assumptions by doing numeric statistical simulations. The monthy hall problem is divided in three stages. In the first stage the contestant chooses (randomly) one of the three doors offered to him. After this, the presenter opens one of the remaining doors that he KNOWS contains a donkey. After this, the contestant is offered to keep his door or change it. The question is if the contestant should keep or change the door in order to maximize his winning chances. Also, we'll check if the assumption of the presenter knowing what is behind the doors really matters.\n",
    "\n",
    "#### Bayes Theorem\n",
    "\n",
    "$$P(A\\mid B) = \\frac{P(B \\mid A) P(A)}{P(B)}$$"
   ]
  },
  {
   "cell_type": "markdown",
   "metadata": {},
   "source": [
    "## Case 1: host knows what's behind the doors"
   ]
  },
  {
   "cell_type": "markdown",
   "metadata": {},
   "source": [
    "We are interested in the posterior probability $P(A\\mid B)\\equiv P(car=1\\mid opens=2)$, i.e. the probability that the car is in the door 1 given that Monthy opens, for example, door 2. In order compute that we ened to calculate the Likelihoods:\n",
    "\n",
    "\n",
    "$$\\begin{aligned}&P(opens=2\\mid car=1)= 1/2\\\\&P(opens=2\\mid car=2)= 0\\\\&P(opens=2\\mid car=3)= 1\\\\\n",
    "\\end{aligned}$$\n",
    "\n",
    "We know that Monthy must open a door without the car behind it:"
   ]
  },
  {
   "cell_type": "code",
   "execution_count": 9,
   "metadata": {},
   "outputs": [],
   "source": [
    "import numpy as np\n",
    "import matplotlib.pyplot as plt\n",
    "import random"
   ]
  },
  {
   "cell_type": "code",
   "execution_count": 10,
   "metadata": {},
   "outputs": [],
   "source": [
    "def host(win, pick):\n",
    "    '''the host must open a door without the car in it'''\n",
    "    doors={1,2,3}\n",
    "    if win!= pick:\n",
    "        doors.remove(win)\n",
    "        doors.remove(pick)\n",
    "    else:\n",
    "        doors.remove(win)\n",
    "    door=random.sample(doors,k=1)[0]\n",
    "    return door"
   ]
  },
  {
   "cell_type": "code",
   "execution_count": 11,
   "metadata": {},
   "outputs": [],
   "source": [
    "def monthy_hall(change_door=True,verbose=False):\n",
    "    doors=[1,2,3]\n",
    "    wining_door=np.random.randint(1,4) #\n",
    "    contestant_door=np.random.randint(1,4) #\n",
    "    host_door=host(wining_door,contestant_door)\n",
    "    doors.remove(host_door)#now the contestan can either change or keep the door\n",
    "    #change_door=False\n",
    "    if change_door:\n",
    "        doors.remove(contestant_door)\n",
    "        contestant_door=doors[0]\n",
    "    winner=False\n",
    "    if (contestant_door==wining_door):\n",
    "        winner=True\n",
    "        if verbose:\n",
    "            print('Winner!\\n')\n",
    "    else:\n",
    "        if verbose:\n",
    "            print('Loser!\\n')\n",
    "    return winner"
   ]
  },
  {
   "cell_type": "code",
   "execution_count": 12,
   "metadata": {},
   "outputs": [
    {
     "name": "stdout",
     "output_type": "stream",
     "text": [
      "Win chance=  0.67021\n"
     ]
    }
   ],
   "source": [
    "i=0\n",
    "n_tries=100000\n",
    "wins=0\n",
    "for i in np.arange(1,n_tries):\n",
    "    if monthy_hall(change_door=True):\n",
    "        wins+=1\n",
    "win_chance=wins/n_tries\n",
    "print('Win chance= ' ,win_chance)"
   ]
  },
  {
   "cell_type": "markdown",
   "metadata": {},
   "source": [
    "Win chance approaches 2/3 as expected, if the contestant changes the door."
   ]
  },
  {
   "cell_type": "markdown",
   "metadata": {},
   "source": [
    "## Case 2: host randomly picks the door to open"
   ]
  },
  {
   "cell_type": "markdown",
   "metadata": {},
   "source": [
    "In this case we are in the situation where the host randomply opens a door, and the door happens to be one with a donkey behhind it. "
   ]
  },
  {
   "cell_type": "code",
   "execution_count": 13,
   "metadata": {},
   "outputs": [],
   "source": [
    "def random_host(win,pick):\n",
    "    doors=[1,2,3]\n",
    "    doors.remove(pick)\n",
    "    host_door=random.sample(doors,k=1)[0]\n",
    "    return host_door"
   ]
  },
  {
   "cell_type": "code",
   "execution_count": 14,
   "metadata": {},
   "outputs": [],
   "source": [
    "def monthy_hall_random(change_door=True,verbose=False):\n",
    "    '''in this implementation instead we assume that the host picks randomly. However we restrict to the cases in which the host opens (randomly) a door with the donkey in it'''\n",
    "    doors=[1,2,3]\n",
    "    wining_door=np.random.randint(1,4) #the car is randomply behind one door\n",
    "    contestant_door=np.random.randint(1,4) #the ocntestant picks a door\n",
    "    if(verbose):\n",
    "        print('Door picked by contestant: ', contestant_door,'\\nWinning door: ', wining_door,'\\n')\n",
    "    #host_door=host(wining_door,contestant_door)\n",
    "    host_door=random_host(wining_door,contestant_door)\n",
    "    #now i've got to split and consider only the case where the host hasn't picked the car door\n",
    "    game=False \n",
    "    doors.remove(host_door)\n",
    "    if verbose:\n",
    "        print('Doors remaining: ', doors)\n",
    "        print('Host opens door ', host_door, '\\n')\n",
    "    if host_door==wining_door:\n",
    "        if verbose:\n",
    "            print('Host has picked the winning door! Game invalid.\\n')\n",
    "        game=False\n",
    "    else:\n",
    "        game=True\n",
    "    if change_door:\n",
    "        doors.remove(contestant_door)\n",
    "        contestant_door=doors[0]\n",
    "        if verbose:\n",
    "            print('Contestant changes door and picks door ', contestant_door,'\\n')\n",
    "    winner=False\n",
    "    if (contestant_door==wining_door):\n",
    "        winner=True\n",
    "        if verbose:\n",
    "            print('Winner!\\n')\n",
    "    else:\n",
    "        if verbose:\n",
    "            print('Loser!\\n')\n",
    "    return game, winner"
   ]
  },
  {
   "cell_type": "code",
   "execution_count": 15,
   "metadata": {},
   "outputs": [
    {
     "name": "stdout",
     "output_type": "stream",
     "text": [
      "Door picked by contestant:  3 \n",
      "Winning door:  3 \n",
      "\n",
      "Doors remaining:  [1, 3]\n",
      "Host opens door  2 \n",
      "\n",
      "Contestant changes door and picks door  1 \n",
      "\n",
      "Loser!\n",
      "\n"
     ]
    },
    {
     "data": {
      "text/plain": [
       "(True, False)"
      ]
     },
     "execution_count": 15,
     "metadata": {},
     "output_type": "execute_result"
    }
   ],
   "source": [
    "monthy_hall_random(verbose=True)"
   ]
  },
  {
   "cell_type": "markdown",
   "metadata": {},
   "source": [
    "In this case the host picks randomly the door to open between the doors not picked by the contestant. The formulation of the problem is therefore different: \"The contestant picks one door: the host opens one door randomly and reveals a donkey, then what are the chances that the car is behind either of the remaining doors, the one picked by the contestant or the other?\n",
    "\n",
    "I therefore have to restrict on the subset of \"valid games\" i.e. the games in which the assumption that the host doesn't reveal the car holds.\n",
    "\n",
    "In Bayesian speak, what changes is the likelyhood probability: Monthy now *can* open a door with the car behind it, therefore, assuming we pick door 1 and monthy opens door 2:\n",
    "\n",
    "$$\\begin{aligned}&P(opens=2\\mid car=1)= 1/3\\\\&P(opens=2\\mid car=2)= 1/3\\\\&P(opens=2\\mid car=3)= 1/3\\\\\n",
    "\\end{aligned}$$\n",
    "\n",
    "However in this case we are interested in the subset of cases in which Monthy does not open a door with the car behind it, despite choosing randomly. So the question is: *given that monthy did not open a door with the car in it, what are the chances that the car is in either of the remaining doors? Does the chance of winning increase by changing door?*"
   ]
  },
  {
   "cell_type": "code",
   "execution_count": 16,
   "metadata": {},
   "outputs": [
    {
     "name": "stdout",
     "output_type": "stream",
     "text": [
      "Total games:  100000 \n",
      "Games where the host does not pick the winning door (valid games):  66882 \n",
      "Valid games won:  33522\n",
      "Win chance=  0.5012110881851619\n"
     ]
    }
   ],
   "source": [
    "i=0\n",
    "n_tries=100000\n",
    "\n",
    "wins=0\n",
    "games=0\n",
    "for i in np.arange(1,n_tries):\n",
    "    game,win=monthy_hall_random(change_door=True)\n",
    "    if game:\n",
    "        games+=1\n",
    "        if win:\n",
    "            wins+=1\n",
    "    #if (win and game):\n",
    "        #wins+=1\n",
    "print('Total games: ', n_tries, '\\nGames where the host does not pick the winning door (valid games): ', games, '\\nValid games won: ', wins)\n",
    "win_chance=wins/games\n",
    "print('Win chance= ' ,win_chance)"
   ]
  },
  {
   "cell_type": "markdown",
   "metadata": {},
   "source": [
    "In this case, given that the choice of the host of what door to open is completely random and not conditioned by the position of the car (independent)."
   ]
  }
 ],
 "metadata": {
  "kernelspec": {
   "display_name": "base",
   "language": "python",
   "name": "python3"
  },
  "language_info": {
   "codemirror_mode": {
    "name": "ipython",
    "version": 3
   },
   "file_extension": ".py",
   "mimetype": "text/x-python",
   "name": "python",
   "nbconvert_exporter": "python",
   "pygments_lexer": "ipython3",
   "version": "3.8.8 (default, Apr 13 2021, 15:08:03) [MSC v.1916 64 bit (AMD64)]"
  },
  "orig_nbformat": 4,
  "vscode": {
   "interpreter": {
    "hash": "68b83d36125722a4cfa54faf6473e9cfaf94e2e30a32ae0e02287cb9789563ab"
   }
  }
 },
 "nbformat": 4,
 "nbformat_minor": 2
}
