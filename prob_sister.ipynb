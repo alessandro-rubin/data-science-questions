{
 "cells": [
  {
   "attachments": {},
   "cell_type": "markdown",
   "metadata": {},
   "source": [
    "# Probability of having a sister"
   ]
  },
  {
   "attachments": {},
   "cell_type": "markdown",
   "metadata": {},
   "source": [
    "## Question:"
   ]
  },
  {
   "attachments": {},
   "cell_type": "markdown",
   "metadata": {},
   "source": [
    "https://platform.stratascratch.com/technical/2368-probability-of-having-a-sister?tabname=question"
   ]
  },
  {
   "attachments": {},
   "cell_type": "markdown",
   "metadata": {},
   "source": [
    "Assume the distribution of children per family is as given in the table below:\n",
    "\n",
    "\n",
    "| n_children | 0   | 1    | 2   | 3    | 4   | >=5 |\n",
    "|------------|-----|------|-----|------|-----|-----|\n",
    "| p          | 0.3 | 0.25 | 0.2 | 0.15 | 0.1 | 0   |\n",
    "\n",
    "Consider a random girl in the population of children. What is the probability that she has a sister?"
   ]
  },
  {
   "attachments": {},
   "cell_type": "markdown",
   "metadata": {},
   "source": [
    "## Solution"
   ]
  },
  {
   "attachments": {},
   "cell_type": "markdown",
   "metadata": {},
   "source": [
    "### Strategy:\n",
    "\n",
    "1) We assume that the probability of a child being boy/girl is independent and equal\n",
    "2) We are interested in the probability that a randomply picked girl in the children population has - at least - one sister. In other words, we are interested in the probability that in a family there are at least 2 girls, conditioned on the fact that there is at least one girl:\n",
    "\n",
    "$$P(g \\geq 2 | g \\geq 1) = \\frac{P(g \\geq 2 \\cap g \\geq 1)}{P(g \\geq1)}= \\frac{P(g \\geq 2)}{P(g \\geq1)} $$\n",
    "\n",
    "where the last equality holds because all families with at least 2 girls also have at least 1 girl.\n",
    "\n",
    "We then have to compute $P(g\\geq k)$ with $k=1,2$, as a function of the probability of a family having a number $n$ of children.\n",
    "\n",
    "$$P(g \\geq k) = \\sum_{i=0,...,4} P (g \\geq k | n = i) \\cdot P(n=i)$$\n",
    "\n",
    "\n",
    "$$\\begin{aligned}P(g \\geq 1) &= P (g \\geq 1 | n = 1) \\cdot P(n=1) +P (g \\geq 1 | n = 2) \\cdot P(n=2) + P (g \\geq 1 | n = 3) \\cdot P(n=3) + P (g \\geq 1 | n = 4) \\cdot P(n=4) =  \\\\\n",
    "&= 0.5 \\cdot P(n=1) + (1- 0.5^2) \\cdot P(n=2) + (1-0.5^3) \\cdot P(n=3) + (1-0.5^4) \\cdot P(n=4) \n",
    "\\end{aligned}$$\n",
    "\n",
    "We then need to compute $P (g \\geq 2 | n = i)$: for $n=2$ it's straihtforward, it's the probability that both children are girls, so $1/4$. What about $n=3 ,4$?\n",
    "\n",
    "$$\\begin{aligned}P(g \\geq 2) &= P (g \\geq 2 | n = 2) \\cdot P(n=2) + P (g \\geq 2 | n = 3) \\cdot P(n=3) + P (g \\geq 2 | n = 4) \\cdot P(n=4) =  \\\\\n",
    "&= 0.5^2 \\cdot P(n=2) + 0.5^3 \\cdot 4 \\cdot P(n=3) + (1-0.5^4 \\cdot 5) \\cdot P(n=4) \n",
    "\\end{aligned}$$\n",
    "\n",
    "Plugging numbers we get:\n",
    "\n",
    "$$P(g \\geq 2 | g \\geq 1) =  0.3875$$\n"
   ]
  },
  {
   "cell_type": "code",
   "execution_count": 123,
   "metadata": {},
   "outputs": [],
   "source": [
    "prob_distribution_base={0: 0.3, 1: 0.25, 2: 0.2, 3: 0.15, 4: 0.1, 5: 0}"
   ]
  },
  {
   "cell_type": "code",
   "execution_count": 124,
   "metadata": {},
   "outputs": [],
   "source": [
    "prob_distribution = {0: 0.5, 1: 0.0, 2: 0.5, 3: 0.0, 4: 0.0, 5: 0}\n"
   ]
  },
  {
   "cell_type": "code",
   "execution_count": 125,
   "metadata": {},
   "outputs": [
    {
     "name": "stdout",
     "output_type": "stream",
     "text": [
      "p1 =  0.375 p2 =  0.125 , probability =  0.3333333333333333\n"
     ]
    }
   ],
   "source": [
    "p1=(0.5*prob_distribution[1]+(1-0.5**2)*prob_distribution[2]+(1-0.5**3)*prob_distribution[3]+(1-0.5**4)*prob_distribution[4])\n",
    "p2=(0.5**2*prob_distribution[2]+(0.5**3)*4*prob_distribution[3]+(1-5*0.5**4)*prob_distribution[4])\n",
    "print('p1 = ', p1, 'p2 = ', p2, ', probability = ', p2/p1)"
   ]
  },
  {
   "cell_type": "code",
   "execution_count": 126,
   "metadata": {},
   "outputs": [],
   "source": [
    "num=  (1/3*  prob_distribution[2]+4/7*  prob_distribution[3]+11/15* prob_distribution[4])"
   ]
  },
  {
   "cell_type": "code",
   "execution_count": 127,
   "metadata": {},
   "outputs": [],
   "source": [
    "den=prob_distribution[1]*0.5+3./4. * prob_distribution[2]+ 7./8. * prob_distribution[3] + 14/15 * prob_distribution[4]"
   ]
  },
  {
   "cell_type": "code",
   "execution_count": 128,
   "metadata": {},
   "outputs": [
    {
     "data": {
      "text/plain": [
       "0.4444444444444444"
      ]
     },
     "execution_count": 128,
     "metadata": {},
     "output_type": "execute_result"
    }
   ],
   "source": [
    "num/den"
   ]
  },
  {
   "attachments": {},
   "cell_type": "markdown",
   "metadata": {},
   "source": [
    "## Simulation:"
   ]
  },
  {
   "attachments": {},
   "cell_type": "markdown",
   "metadata": {},
   "source": [
    "Now let's check if the result is right with a simple simullation:"
   ]
  },
  {
   "cell_type": "code",
   "execution_count": 95,
   "metadata": {},
   "outputs": [],
   "source": [
    "import random\n",
    "import pandas as pd\n",
    "import numpy as np\n",
    "\n",
    "# Define the probability distribution of number of children per family\n",
    "\n",
    "# Generate a sample of families\n",
    "sample_size = 1000000\n",
    "families = []\n",
    "for i in range(sample_size):\n",
    "    n_children = random.choices(list(prob_distribution.keys()), weights=list(prob_distribution.values()))[0]\n",
    "    family = {\"n_children\": n_children}\n",
    "    if n_children > 0:\n",
    "        family[\"n_girls\"] =  np.random.binomial(n_children, 0.5)# the sex of each child is basically a coin toss, therefore we need to use a binomial distribution\n",
    "        family[\"n_boys\"] = n_children - family[\"n_girls\"]\n",
    "    else:\n",
    "        family[\"n_girls\"]=0\n",
    "        family[\"n_boys\"]=0\n",
    "    families.append(family)\n",
    "\n"
   ]
  },
  {
   "cell_type": "code",
   "execution_count": 96,
   "metadata": {},
   "outputs": [
    {
     "name": "stdout",
     "output_type": "stream",
     "text": [
      "Family 1: 4 children (3 girls, 1 boys)\n",
      "Family 2: 1 children (0 girls, 1 boys)\n",
      "Family 3: 1 children (0 girls, 1 boys)\n",
      "Family 4: 1 children (1 girls, 0 boys)\n",
      "Family 5: 0 children (0 girls, 0 boys)\n",
      "Family 6: 1 children (1 girls, 0 boys)\n",
      "Family 7: 0 children (0 girls, 0 boys)\n",
      "Family 8: 1 children (0 girls, 1 boys)\n",
      "Family 9: 1 children (1 girls, 0 boys)\n",
      "Family 10: 3 children (1 girls, 2 boys)\n"
     ]
    }
   ],
   "source": [
    "for i, family in enumerate(families[:10]):\n",
    "    print(\"Family {}: {} children ({} girls, {} boys)\".format(i+1, family[\"n_children\"], family.get(\"n_girls\", 0), family.get(\"n_boys\", 0)))"
   ]
  },
  {
   "attachments": {},
   "cell_type": "markdown",
   "metadata": {},
   "source": [
    "Put the entries in a dataframe which is easier to manage and perform some sanity check:"
   ]
  },
  {
   "cell_type": "code",
   "execution_count": 97,
   "metadata": {},
   "outputs": [],
   "source": [
    "df=pd.DataFrame.from_dict(families)\n"
   ]
  },
  {
   "cell_type": "code",
   "execution_count": 98,
   "metadata": {},
   "outputs": [
    {
     "data": {
      "text/plain": [
       "array([[<AxesSubplot: title={'center': 'n_children'}>,\n",
       "        <AxesSubplot: title={'center': 'n_girls'}>],\n",
       "       [<AxesSubplot: title={'center': 'n_boys'}>, <AxesSubplot: >]],\n",
       "      dtype=object)"
      ]
     },
     "execution_count": 98,
     "metadata": {},
     "output_type": "execute_result"
    },
    {
     "data": {
      "image/png": "[encoded data removed]",
      "text/plain": [
       "<Figure size 640x480 with 4 Axes>"
      ]
     },
     "metadata": {},
     "output_type": "display_data"
    }
   ],
   "source": [
    "df.hist()"
   ]
  },
  {
   "cell_type": "code",
   "execution_count": 99,
   "metadata": {},
   "outputs": [
    {
     "data": {
      "text/plain": [
       "array([[<AxesSubplot: title={'center': 'n_children'}>,\n",
       "        <AxesSubplot: title={'center': 'n_girls'}>],\n",
       "       [<AxesSubplot: title={'center': 'n_boys'}>, <AxesSubplot: >]],\n",
       "      dtype=object)"
      ]
     },
     "execution_count": 99,
     "metadata": {},
     "output_type": "execute_result"
    },
    {
     "data": {
      "image/png": "[encoded data removed]",
      "text/plain": [
       "<Figure size 640x480 with 4 Axes>"
      ]
     },
     "metadata": {},
     "output_type": "display_data"
    }
   ],
   "source": [
    "df[df['n_children']==4].hist()"
   ]
  },
  {
   "cell_type": "code",
   "execution_count": 100,
   "metadata": {},
   "outputs": [],
   "source": [
    "twogirls=df[df['n_girls']>=2].count()\n",
    "onegirl=df[df['n_girls']>=1].count()\n"
   ]
  },
  {
   "cell_type": "code",
   "execution_count": 101,
   "metadata": {},
   "outputs": [
    {
     "data": {
      "text/plain": [
       "0.3873002270037485"
      ]
     },
     "execution_count": 101,
     "metadata": {},
     "output_type": "execute_result"
    }
   ],
   "source": [
    "ratio=twogirls[0]/onegirl[0]\n",
    "ratio"
   ]
  }
 ],
 "metadata": {
  "kernelspec": {
   "display_name": "scr",
   "language": "python",
   "name": "python3"
  },
  "language_info": {
   "codemirror_mode": {
    "name": "ipython",
    "version": 3
   },
   "file_extension": ".py",
   "mimetype": "text/x-python",
   "name": "python",
   "nbconvert_exporter": "python",
   "pygments_lexer": "ipython3",
   "version": "3.10.6"
  },
  "orig_nbformat": 4,
  "vscode": {
   "interpreter": {
    "hash": "1bcc1be35dd13877cdafc6e42014e3abe18f82ea84a3785f5f9f3859a2165137"
   }
  }
 },
 "nbformat": 4,
 "nbformat_minor": 2
}
