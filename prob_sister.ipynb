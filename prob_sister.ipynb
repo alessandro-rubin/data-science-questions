{
 "cells": [
  {
   "attachments": {},
   "cell_type": "markdown",
   "metadata": {},
   "source": [
    "# Probability of having a sister"
   ]
  },
  {
   "attachments": {},
   "cell_type": "markdown",
   "metadata": {},
   "source": [
    "## Question:"
   ]
  },
  {
   "attachments": {},
   "cell_type": "markdown",
   "metadata": {},
   "source": [
    "https://platform.stratascratch.com/technical/2368-probability-of-having-a-sister?tabname=question"
   ]
  },
  {
   "attachments": {},
   "cell_type": "markdown",
   "metadata": {},
   "source": [
    "Assume the distribution of children per family is as given in the table below:\n",
    "\n",
    "\n",
    "| n_children | 0   | 1    | 2   | 3    | 4   | >=5 |\n",
    "|------------|-----|------|-----|------|-----|-----|\n",
    "| p          | 0.3 | 0.25 | 0.2 | 0.15 | 0.1 | 0   |\n",
    "\n",
    "Consider a random girl in the population of children. What is the probability that she has a sister?"
   ]
  },
  {
   "attachments": {},
   "cell_type": "markdown",
   "metadata": {},
   "source": [
    "## (wrong) Solution"
   ]
  },
  {
   "attachments": {},
   "cell_type": "markdown",
   "metadata": {},
   "source": [
    "### Strategy:\n",
    "\n",
    "1) We assume that the probability of a child being boy/girl is independent and equal\n",
    "2) We are interested in the probability that a randomply picked girl in the children population has - at least - one sister. In other words, we are interested in the probability that in a family there are at least 2 girls, conditioned on the fact that there is at least one girl:\n",
    "\n",
    "$$P(g \\geq 2 | g \\geq 1) = \\frac{P(g \\geq 2 \\cap g \\geq 1)}{P(g \\geq1)}= \\frac{P(g \\geq 2)}{P(g \\geq1)} $$\n",
    "\n",
    "where the last equality holds because all families with at least 2 girls also have at least 1 girl.\n",
    "\n",
    "We then have to compute $P(g\\geq k)$ with $k=1,2$, as a function of the probability of a family having a number $n$ of children.\n",
    "\n",
    "$$P(g \\geq k) = \\sum_{i=0,...,4} P (g \\geq k | n = i) \\cdot P(n=i)$$\n",
    "\n",
    "\n",
    "$$\\begin{aligned}P(g \\geq 1) &= P (g \\geq 1 | n = 1) \\cdot P(n=1) +P (g \\geq 1 | n = 2) \\cdot P(n=2) + P (g \\geq 1 | n = 3) \\cdot P(n=3) + P (g \\geq 1 | n = 4) \\cdot P(n=4) =  \\\\\n",
    "&= 0.5 \\cdot P(n=1) + (1- 0.5^2) \\cdot P(n=2) + (1-0.5^3) \\cdot P(n=3) + (1-0.5^4) \\cdot P(n=4) \n",
    "\\end{aligned}$$\n",
    "\n",
    "We then need to compute $P (g \\geq 2 | n = i)$: for $n=2$ it's straihtforward, it's the probability that both children are girls, so $1/4$. What about $n=3 ,4$?\n",
    "\n",
    "$$\\begin{aligned}P(g \\geq 2) &= P (g \\geq 2 | n = 2) \\cdot P(n=2) + P (g \\geq 2 | n = 3) \\cdot P(n=3) + P (g \\geq 2 | n = 4) \\cdot P(n=4) =  \\\\\n",
    "&= 0.5^2 \\cdot P(n=2) + 0.5^3 \\cdot 4 \\cdot P(n=3) + (1-0.5^4 \\cdot 5) \\cdot P(n=4) \n",
    "\\end{aligned}$$\n",
    "\n",
    "Plugging numbers we get:\n",
    "\n",
    "$$P(g \\geq 2 | g \\geq 1) =  0.3875$$\n"
   ]
  },
  {
   "attachments": {},
   "cell_type": "markdown",
   "metadata": {},
   "source": [
    "## Right solution:\n",
    "\n",
    "In order to answer the question we can recast it in the following way: if I pick a random girl in the pool of kids, what are the chances that she belongs in a family with more than 2 girls? This can be computed as a ratio between the number of girls that satisfy the requirement $N(g \\geq 2)$ and the total number of girls $N(g)$\n",
    "\n",
    "$$P(g \\geq 2) = \\frac{N(g \\geq 2)}{N(g)}$$\n",
    "\n",
    "The denominator $D$ is the total fraction of kids who are girls: it is given by the fraction of each $n$-kids-family, i.e. $P(n)$, multiplied by $n$, and then multiplied by $1/2$, since girls are half the total number of kids.\n",
    "\n",
    "$$D=0.5*(\\sum_n (nP(n)))$$\n",
    "\n",
    "The numerator instead is more complicated: for each $n$, we consider the average number of girls in $n$-kids families having more than $2$ girls. As the sex of each kid is a random process, this number is given by a binomial distribution.\n",
    "\n",
    "For example, the fraction of girls in families with 2 or more girls having a total of 2 kids is\n",
    "\n",
    "$$G(2)=2 \\cdot B(2,2,0.5) \\cdot P(2)$$\n",
    "\n",
    "where the first factor is because each of such families will have 2 girls, the second factor is the probability mass function of the binomial distribution 2 girls out of 2 kids with probability of 0.5 and the last factor is the fraction of families having 2 kids. \n",
    "\n",
    "The term for families with three kids is instead:\n",
    "\n",
    "$$G(3)=P(3) \\sum_{g=2}^3(g B(g,3,0.5))$$\n",
    "\n",
    "the sum over g is because families with **more than** 2 girls can either have 2 or 3 girls, in this case.\n",
    "\n",
    "Analogously, for 4-kids families:\n",
    "\n",
    "$$G(4)=P(4) \\sum_{g=2}^4(g B(g,4,0.5))$$\n",
    "\n",
    "The total fraction, i.e. probability of picking a girl with at least a sister is therefore \n",
    "\n",
    "$$Prob=\\frac{G(2)+G(3)+G(4)}{D}=\\frac{\\sum_{n=2}(\\sum_{g=2}^n(g B(g,n,0.5)))}{0.5*(\\sum_n (nP(n)))} \\simeq 0.592$$\n",
    "\n"
   ]
  },
  {
   "cell_type": "code",
   "execution_count": 42,
   "metadata": {},
   "outputs": [],
   "source": [
    "prob_distribution_base={0: 0.3, 1: 0.25, 2: 0.2, 3: 0.15, 4: 0.1, 5: 0}"
   ]
  },
  {
   "cell_type": "code",
   "execution_count": 43,
   "metadata": {},
   "outputs": [],
   "source": [
    "prob_distribution = {0: 0.3, 1: 0.25, 2: 0.2, 3: 0.15, 4: 0.1, 5: 0}\n"
   ]
  },
  {
   "cell_type": "code",
   "execution_count": 44,
   "metadata": {},
   "outputs": [],
   "source": [
    "import random\n",
    "import pandas as pd\n",
    "import numpy as np\n",
    "from scipy.stats import binom\n"
   ]
  },
  {
   "cell_type": "code",
   "execution_count": 45,
   "metadata": {},
   "outputs": [],
   "source": [
    "p=0.5 #probability of a kid being boy/girl"
   ]
  },
  {
   "cell_type": "code",
   "execution_count": 46,
   "metadata": {},
   "outputs": [],
   "source": [
    "def compute_solution(prob_distribution,p=0.5):\n",
    "    '''computes the analytic solution'''\n",
    "    print('prob: ',prob_distribution)\n",
    "    num=0\n",
    "    for n in prob_distribution.keys():\n",
    "        partial=0\n",
    "        for i in np.arange(2,n+1):\n",
    "            partial+=i*binom.pmf(i,n,p)\n",
    "        if n>=2:\n",
    "            aaa=partial*prob_distribution[n]\n",
    "            num+=aaa\n",
    "    den=0\n",
    "    for n in prob_distribution.keys():\n",
    "        den+=n*prob_distribution[n]\n",
    "    den=den*0.5\n",
    "    solution=num/den\n",
    "    print('numerator = {}\\ndenominator={}\\nsolution={}'.format(num,den,solution))\n",
    "    return solution\n"
   ]
  },
  {
   "cell_type": "code",
   "execution_count": 47,
   "metadata": {},
   "outputs": [
    {
     "name": "stdout",
     "output_type": "stream",
     "text": [
      "prob:  {0: 0.3, 1: 0.25, 2: 0.2, 3: 0.15, 4: 0.1, 5: 0}\n",
      "numerator = 0.4437500000000001\n",
      "denominator=0.75\n",
      "solution=0.5916666666666668\n"
     ]
    },
    {
     "data": {
      "text/plain": [
       "0.5916666666666668"
      ]
     },
     "execution_count": 47,
     "metadata": {},
     "output_type": "execute_result"
    }
   ],
   "source": [
    "compute_solution(prob_distribution=prob_distribution)"
   ]
  },
  {
   "attachments": {},
   "cell_type": "markdown",
   "metadata": {},
   "source": [
    "## Simulation:"
   ]
  },
  {
   "attachments": {},
   "cell_type": "markdown",
   "metadata": {},
   "source": [
    "Now let's check if the result is right with a simple simullation:"
   ]
  },
  {
   "cell_type": "code",
   "execution_count": 48,
   "metadata": {},
   "outputs": [],
   "source": [
    "def generate_sample(probdict,sample_size=100000):\n",
    "    families = []\n",
    "    for i in range(sample_size):\n",
    "        n_children = random.choices(list(prob_distribution.keys()), weights=list(prob_distribution.values()))[0]\n",
    "        family = {\"n_children\": n_children}\n",
    "        if n_children > 0:\n",
    "            family[\"n_girls\"] =  np.random.binomial(n_children, 0.5)# the sex of each child is basically a coin toss, therefore we need to use a binomial distribution\n",
    "            family[\"n_boys\"] = n_children - family[\"n_girls\"]\n",
    "        else:\n",
    "            family[\"n_girls\"]=0\n",
    "            family[\"n_boys\"]=0\n",
    "        families.append(family)\n",
    "    return pd.DataFrame.from_dict(families)\n",
    "\n"
   ]
  },
  {
   "cell_type": "code",
   "execution_count": 49,
   "metadata": {},
   "outputs": [],
   "source": [
    "df=generate_sample(prob_distribution,1000000)\n",
    "\n"
   ]
  },
  {
   "cell_type": "code",
   "execution_count": 50,
   "metadata": {},
   "outputs": [
    {
     "data": {
      "text/plain": [
       "array([[<AxesSubplot: title={'center': 'n_children'}>,\n",
       "        <AxesSubplot: title={'center': 'n_girls'}>],\n",
       "       [<AxesSubplot: title={'center': 'n_boys'}>, <AxesSubplot: >]],\n",
       "      dtype=object)"
      ]
     },
     "execution_count": 50,
     "metadata": {},
     "output_type": "execute_result"
    },
    {
     "data": {
      "image/png": "[encoded data removed]",
      "text/plain": [
       "<Figure size 640x480 with 4 Axes>"
      ]
     },
     "metadata": {},
     "output_type": "display_data"
    }
   ],
   "source": [
    "df.hist()"
   ]
  },
  {
   "cell_type": "code",
   "execution_count": 51,
   "metadata": {},
   "outputs": [
    {
     "data": {
      "text/plain": [
       "array([[<AxesSubplot: title={'center': 'n_children'}>,\n",
       "        <AxesSubplot: title={'center': 'n_girls'}>],\n",
       "       [<AxesSubplot: title={'center': 'n_boys'}>, <AxesSubplot: >]],\n",
       "      dtype=object)"
      ]
     },
     "execution_count": 51,
     "metadata": {},
     "output_type": "execute_result"
    },
    {
     "data": {
      "image/png": "[encoded data removed]",
      "text/plain": [
       "<Figure size 640x480 with 4 Axes>"
      ]
     },
     "metadata": {},
     "output_type": "display_data"
    }
   ],
   "source": [
    "df[df['n_children']==4].hist()"
   ]
  },
  {
   "cell_type": "code",
   "execution_count": 52,
   "metadata": {},
   "outputs": [
    {
     "data": {
      "text/plain": [
       "750016"
      ]
     },
     "execution_count": 52,
     "metadata": {},
     "output_type": "execute_result"
    }
   ],
   "source": [
    "#girls in families with more than 1 girl\n",
    "g2=df[df['n_girls']>=2].sum()['n_girls']\n",
    "\n",
    "totalgirls=df.sum()['n_girls']\n",
    "totalgirls"
   ]
  },
  {
   "cell_type": "code",
   "execution_count": 53,
   "metadata": {},
   "outputs": [
    {
     "data": {
      "text/plain": [
       "0.5920140370338766"
      ]
     },
     "execution_count": 53,
     "metadata": {},
     "output_type": "execute_result"
    }
   ],
   "source": [
    "g2/totalgirls"
   ]
  }
 ],
 "metadata": {
  "kernelspec": {
   "display_name": "scr",
   "language": "python",
   "name": "python3"
  },
  "language_info": {
   "codemirror_mode": {
    "name": "ipython",
    "version": 3
   },
   "file_extension": ".py",
   "mimetype": "text/x-python",
   "name": "python",
   "nbconvert_exporter": "python",
   "pygments_lexer": "ipython3",
   "version": "3.10.6"
  },
  "orig_nbformat": 4,
  "vscode": {
   "interpreter": {
    "hash": "1bcc1be35dd13877cdafc6e42014e3abe18f82ea84a3785f5f9f3859a2165137"
   }
  }
 },
 "nbformat": 4,
 "nbformat_minor": 2
}
