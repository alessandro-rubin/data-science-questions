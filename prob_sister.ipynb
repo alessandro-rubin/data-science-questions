{
 "cells": [
  {
   "attachments": {},
   "cell_type": "markdown",
   "metadata": {},
   "source": [
    "# Probability of having a sister"
   ]
  },
  {
   "attachments": {},
   "cell_type": "markdown",
   "metadata": {},
   "source": [
    "## Question:"
   ]
  },
  {
   "attachments": {},
   "cell_type": "markdown",
   "metadata": {},
   "source": [
    "https://platform.stratascratch.com/technical/2368-probability-of-having-a-sister?tabname=question"
   ]
  },
  {
   "attachments": {},
   "cell_type": "markdown",
   "metadata": {},
   "source": [
    "Assume the distribution of children per family is as given in the table below:\n",
    "\n",
    "\n",
    "| n_children | 0   | 1    | 2   | 3    | 4   | >=5 |\n",
    "|------------|-----|------|-----|------|-----|-----|\n",
    "| p          | 0.3 | 0.25 | 0.2 | 0.15 | 0.1 | 0   |\n",
    "\n",
    "Consider a random girl in the population of children. What is the probability that she has a sister?"
   ]
  },
  {
   "attachments": {},
   "cell_type": "markdown",
   "metadata": {},
   "source": [
    "## Solution"
   ]
  },
  {
   "attachments": {},
   "cell_type": "markdown",
   "metadata": {},
   "source": [
    "### Strategy:\n",
    "\n",
    "1) We assume that the probability of a child being boy/girl is independent and equal\n",
    "2) We are interested in the probability that a randomply picked girl in the children population has - at least - one sister. In other words, we are interested in the probability that in a family there are at least 2 girls, conditioned on the fact that there is at least one girl:\n",
    "\n",
    "$$P(g \\geq 2 | g \\geq 1) = \\frac{P(g \\geq 2 \\cap g \\geq 1)}{P(g \\geq1)}= \\frac{P(g \\geq 2)}{P(g \\geq1)} $$\n",
    "\n",
    "where the last equality holds because all families with at least 2 girls also have at least 1 girl.\n",
    "\n",
    "We then have to compute $P(g\\geq k)$ with $k=1,2$, as a function of the probability of a family having a number $n$ of children.\n",
    "\n",
    "$$P(g \\geq k) = \\sum_{i=0,...,4} P (g \\geq k | n = i) \\cdot P(n=i)$$\n",
    "\n",
    "\n",
    "$$\\begin{aligned}P(g \\geq 1) &= P (g \\geq 1 | n = 1) \\cdot P(n=1) +P (g \\geq 1 | n = 2) \\cdot P(n=2) + P (g \\geq 1 | n = 3) \\cdot P(n=3) + P (g \\geq 1 | n = 4) \\cdot P(n=5) =  \\\\\n",
    "&= 0.5 \\cdot P(n=1) + (1- 0.5^2) \\cdot P(n=2) + (1-0.5^3) \\cdot P(n=3) + (1-0.5^4) \\cdot P(n=5) \n",
    "\\end{aligned}$$\n",
    "\n",
    "We then need to compute $P (g \\geq 2 | n = i)$: for $n=2$ it's straihtforward, it's the probability that both children are girls, so $1/4$. What about $n=3 ,4$?\n",
    "\n",
    "$$\\begin{aligned}P(g \\geq 2) &= P (g \\geq 2 | n = 2) \\cdot P(n=2) + P (g \\geq 2 | n = 3) \\cdot P(n=3) + P (g \\geq 2 | n = 4) \\cdot P(n=5) =  \\\\\n",
    "&= 0.5 \\cdot P(n=1) +P (g \\geq k | n = 2) \\cdot P(n=2) + P (g \\geq k | n = 3) \\cdot P(n=3) + P (g \\geq k | n = 4) \\cdot P(n=5) \n",
    "\\end{aligned}$$\n",
    "\n"
   ]
  },
  {
   "attachments": {},
   "cell_type": "markdown",
   "metadata": {},
   "source": [
    "## Simulation:"
   ]
  },
  {
   "cell_type": "code",
   "execution_count": 96,
   "metadata": {},
   "outputs": [],
   "source": [
    "import random\n",
    "import pandas as pd\n",
    "import numpy as np\n",
    "\n",
    "# Define the probability distribution of number of children per family\n",
    "prob_distribution = {0: 0.3, 1: 0.25, 2: 0.2, 3: 0.15, 4: 0.1, 5: 0}\n",
    "\n",
    "# Generate a sample of families\n",
    "sample_size = 100000\n",
    "families = []\n",
    "for i in range(sample_size):\n",
    "    n_children = random.choices(list(prob_distribution.keys()), weights=list(prob_distribution.values()))[0]\n",
    "    family = {\"n_children\": n_children}\n",
    "    if n_children > 0:\n",
    "        family[\"n_girls\"] =  np.random.binomial(n_children, 0.5)\n",
    "        family[\"n_boys\"] = n_children - family[\"n_girls\"]\n",
    "    else:\n",
    "        family[\"n_girls\"]=0\n",
    "        family[\"n_boys\"]=0\n",
    "    families.append(family)\n",
    "\n"
   ]
  },
  {
   "cell_type": "code",
   "execution_count": 97,
   "metadata": {},
   "outputs": [
    {
     "data": {
      "text/plain": [
       "[{'n_children': 3, 'n_girls': 1, 'n_boys': 2},\n",
       " {'n_children': 1, 'n_girls': 1, 'n_boys': 0},\n",
       " {'n_children': 3, 'n_girls': 2, 'n_boys': 1},\n",
       " {'n_children': 0, 'n_girls': 0, 'n_boys': 0},\n",
       " {'n_children': 0, 'n_girls': 0, 'n_boys': 0},\n",
       " {'n_children': 1, 'n_girls': 1, 'n_boys': 0},\n",
       " {'n_children': 0, 'n_girls': 0, 'n_boys': 0},\n",
       " {'n_children': 4, 'n_girls': 3, 'n_boys': 1},\n",
       " {'n_children': 0, 'n_girls': 0, 'n_boys': 0},\n",
       " {'n_children': 3, 'n_girls': 1, 'n_boys': 2}]"
      ]
     },
     "execution_count": 97,
     "metadata": {},
     "output_type": "execute_result"
    }
   ],
   "source": [
    "families[:10]"
   ]
  },
  {
   "cell_type": "code",
   "execution_count": 98,
   "metadata": {},
   "outputs": [
    {
     "data": {
      "text/html": [
       "<div>\n",
       "<style scoped>\n",
       "    .dataframe tbody tr th:only-of-type {\n",
       "        vertical-align: middle;\n",
       "    }\n",
       "\n",
       "    .dataframe tbody tr th {\n",
       "        vertical-align: top;\n",
       "    }\n",
       "\n",
       "    .dataframe thead th {\n",
       "        text-align: right;\n",
       "    }\n",
       "</style>\n",
       "<table border=\"1\" class=\"dataframe\">\n",
       "  <thead>\n",
       "    <tr style=\"text-align: right;\">\n",
       "      <th></th>\n",
       "      <th>n_children</th>\n",
       "      <th>n_girls</th>\n",
       "      <th>n_boys</th>\n",
       "    </tr>\n",
       "  </thead>\n",
       "  <tbody>\n",
       "    <tr>\n",
       "      <th>0</th>\n",
       "      <td>3</td>\n",
       "      <td>1</td>\n",
       "      <td>2</td>\n",
       "    </tr>\n",
       "    <tr>\n",
       "      <th>1</th>\n",
       "      <td>1</td>\n",
       "      <td>1</td>\n",
       "      <td>0</td>\n",
       "    </tr>\n",
       "    <tr>\n",
       "      <th>2</th>\n",
       "      <td>3</td>\n",
       "      <td>2</td>\n",
       "      <td>1</td>\n",
       "    </tr>\n",
       "    <tr>\n",
       "      <th>3</th>\n",
       "      <td>0</td>\n",
       "      <td>0</td>\n",
       "      <td>0</td>\n",
       "    </tr>\n",
       "    <tr>\n",
       "      <th>4</th>\n",
       "      <td>0</td>\n",
       "      <td>0</td>\n",
       "      <td>0</td>\n",
       "    </tr>\n",
       "    <tr>\n",
       "      <th>...</th>\n",
       "      <td>...</td>\n",
       "      <td>...</td>\n",
       "      <td>...</td>\n",
       "    </tr>\n",
       "    <tr>\n",
       "      <th>99995</th>\n",
       "      <td>1</td>\n",
       "      <td>1</td>\n",
       "      <td>0</td>\n",
       "    </tr>\n",
       "    <tr>\n",
       "      <th>99996</th>\n",
       "      <td>1</td>\n",
       "      <td>1</td>\n",
       "      <td>0</td>\n",
       "    </tr>\n",
       "    <tr>\n",
       "      <th>99997</th>\n",
       "      <td>0</td>\n",
       "      <td>0</td>\n",
       "      <td>0</td>\n",
       "    </tr>\n",
       "    <tr>\n",
       "      <th>99998</th>\n",
       "      <td>0</td>\n",
       "      <td>0</td>\n",
       "      <td>0</td>\n",
       "    </tr>\n",
       "    <tr>\n",
       "      <th>99999</th>\n",
       "      <td>0</td>\n",
       "      <td>0</td>\n",
       "      <td>0</td>\n",
       "    </tr>\n",
       "  </tbody>\n",
       "</table>\n",
       "<p>100000 rows × 3 columns</p>\n",
       "</div>"
      ],
      "text/plain": [
       "       n_children  n_girls  n_boys\n",
       "0               3        1       2\n",
       "1               1        1       0\n",
       "2               3        2       1\n",
       "3               0        0       0\n",
       "4               0        0       0\n",
       "...           ...      ...     ...\n",
       "99995           1        1       0\n",
       "99996           1        1       0\n",
       "99997           0        0       0\n",
       "99998           0        0       0\n",
       "99999           0        0       0\n",
       "\n",
       "[100000 rows x 3 columns]"
      ]
     },
     "execution_count": 98,
     "metadata": {},
     "output_type": "execute_result"
    }
   ],
   "source": [
    "df=pd.DataFrame.from_dict(families)\n",
    "df.fillna(0)"
   ]
  },
  {
   "cell_type": "code",
   "execution_count": 99,
   "metadata": {},
   "outputs": [
    {
     "data": {
      "text/plain": [
       "array([[<AxesSubplot:title={'center':'n_children'}>,\n",
       "        <AxesSubplot:title={'center':'n_girls'}>],\n",
       "       [<AxesSubplot:title={'center':'n_boys'}>, <AxesSubplot:>]],\n",
       "      dtype=object)"
      ]
     },
     "execution_count": 99,
     "metadata": {},
     "output_type": "execute_result"
    },
    {
     "data": {
      "image/png": "[encoded data removed]",
      "text/plain": [
       "<Figure size 432x288 with 4 Axes>"
      ]
     },
     "metadata": {
      "needs_background": "light"
     },
     "output_type": "display_data"
    }
   ],
   "source": [
    "df[df['n_children']==4].hist()"
   ]
  },
  {
   "cell_type": "code",
   "execution_count": 100,
   "metadata": {},
   "outputs": [],
   "source": [
    "twogirls=df[df['n_girls']>=2].count()\n",
    "onegirl=df[df['n_girls']>=1].count()\n",
    "print= onegirl[0]"
   ]
  },
  {
   "cell_type": "code",
   "execution_count": 101,
   "metadata": {},
   "outputs": [
    {
     "data": {
      "text/plain": [
       "0.38788242351529695"
      ]
     },
     "execution_count": 101,
     "metadata": {},
     "output_type": "execute_result"
    }
   ],
   "source": [
    "ratio=twogirls[0]/onegirl[0]\n",
    "ratio"
   ]
  }
 ],
 "metadata": {
  "kernelspec": {
   "display_name": "base",
   "language": "python",
   "name": "python3"
  },
  "language_info": {
   "codemirror_mode": {
    "name": "ipython",
    "version": 3
   },
   "file_extension": ".py",
   "mimetype": "text/x-python",
   "name": "python",
   "nbconvert_exporter": "python",
   "pygments_lexer": "ipython3",
   "version": "3.8.8"
  },
  "orig_nbformat": 4,
  "vscode": {
   "interpreter": {
    "hash": "68b83d36125722a4cfa54faf6473e9cfaf94e2e30a32ae0e02287cb9789563ab"
   }
  }
 },
 "nbformat": 4,
 "nbformat_minor": 2
}
