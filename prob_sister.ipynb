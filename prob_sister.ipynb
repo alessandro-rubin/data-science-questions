{
 "cells": [
  {
   "attachments": {},
   "cell_type": "markdown",
   "metadata": {},
   "source": [
    "# Probability of having a sister"
   ]
  },
  {
   "attachments": {},
   "cell_type": "markdown",
   "metadata": {},
   "source": [
    "https://platform.stratascratch.com/technical/2368-probability-of-having-a-sister?tabname=question"
   ]
  },
  {
   "attachments": {},
   "cell_type": "markdown",
   "metadata": {},
   "source": [
    "Assume the distribution of children per family is as given in the table below:\n",
    "\n",
    "\n",
    "| n_children | 0   | 1    | 2   | 3    | 4   | >=5 |\n",
    "|------------|-----|------|-----|------|-----|-----|\n",
    "| p          | 0.3 | 0.25 | 0.2 | 0.15 | 0.1 | 0   |\n",
    "\n",
    "Consider a random girl in the population of children. What is the probability that she has a sister?"
   ]
  }
 ],
 "metadata": {
  "kernelspec": {
   "display_name": "base",
   "language": "python",
   "name": "python3"
  },
  "language_info": {
   "name": "python",
   "version": "3.8.8 (default, Apr 13 2021, 15:08:03) [MSC v.1916 64 bit (AMD64)]"
  },
  "orig_nbformat": 4,
  "vscode": {
   "interpreter": {
    "hash": "68b83d36125722a4cfa54faf6473e9cfaf94e2e30a32ae0e02287cb9789563ab"
   }
  }
 },
 "nbformat": 4,
 "nbformat_minor": 2
}
