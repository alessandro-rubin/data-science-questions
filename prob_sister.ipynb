{
 "cells": [
  {
   "attachments": {},
   "cell_type": "markdown",
   "metadata": {},
   "source": [
    "# Probability of having a sister"
   ]
  },
  {
   "attachments": {},
   "cell_type": "markdown",
   "metadata": {},
   "source": [
    "## Question:"
   ]
  },
  {
   "attachments": {},
   "cell_type": "markdown",
   "metadata": {},
   "source": [
    "https://platform.stratascratch.com/technical/2368-probability-of-having-a-sister?tabname=question"
   ]
  },
  {
   "attachments": {},
   "cell_type": "markdown",
   "metadata": {},
   "source": [
    "Assume the distribution of children per family is as given in the table below:\n",
    "\n",
    "\n",
    "| n_children | 0   | 1    | 2   | 3    | 4   | >=5 |\n",
    "|------------|-----|------|-----|------|-----|-----|\n",
    "| p          | 0.3 | 0.25 | 0.2 | 0.15 | 0.1 | 0   |\n",
    "\n",
    "Consider a random girl in the population of children. What is the probability that she has a sister?"
   ]
  },
  {
   "attachments": {},
   "cell_type": "markdown",
   "metadata": {},
   "source": [
    "## (wrong) Solution"
   ]
  },
  {
   "attachments": {},
   "cell_type": "markdown",
   "metadata": {},
   "source": [
    "### Strategy:\n",
    "\n",
    "1) We assume that the probability of a child being boy/girl is independent and equal\n",
    "2) We are interested in the probability that a randomply picked girl in the children population has - at least - one sister. In other words, we are interested in the probability that in a family there are at least 2 girls, conditioned on the fact that there is at least one girl:\n",
    "\n",
    "$$P(g \\geq 2 | g \\geq 1) = \\frac{P(g \\geq 2 \\cap g \\geq 1)}{P(g \\geq1)}= \\frac{P(g \\geq 2)}{P(g \\geq1)} $$\n",
    "\n",
    "where the last equality holds because all families with at least 2 girls also have at least 1 girl.\n",
    "\n",
    "We then have to compute $P(g\\geq k)$ with $k=1,2$, as a function of the probability of a family having a number $n$ of children.\n",
    "\n",
    "$$P(g \\geq k) = \\sum_{i=0,...,4} P (g \\geq k | n = i) \\cdot P(n=i)$$\n",
    "\n",
    "\n",
    "$$\\begin{aligned}P(g \\geq 1) &= P (g \\geq 1 | n = 1) \\cdot P(n=1) +P (g \\geq 1 | n = 2) \\cdot P(n=2) + P (g \\geq 1 | n = 3) \\cdot P(n=3) + P (g \\geq 1 | n = 4) \\cdot P(n=4) =  \\\\\n",
    "&= 0.5 \\cdot P(n=1) + (1- 0.5^2) \\cdot P(n=2) + (1-0.5^3) \\cdot P(n=3) + (1-0.5^4) \\cdot P(n=4) \n",
    "\\end{aligned}$$\n",
    "\n",
    "We then need to compute $P (g \\geq 2 | n = i)$: for $n=2$ it's straihtforward, it's the probability that both children are girls, so $1/4$. What about $n=3 ,4$?\n",
    "\n",
    "$$\\begin{aligned}P(g \\geq 2) &= P (g \\geq 2 | n = 2) \\cdot P(n=2) + P (g \\geq 2 | n = 3) \\cdot P(n=3) + P (g \\geq 2 | n = 4) \\cdot P(n=4) =  \\\\\n",
    "&= 0.5^2 \\cdot P(n=2) + 0.5^3 \\cdot 4 \\cdot P(n=3) + (1-0.5^4 \\cdot 5) \\cdot P(n=4) \n",
    "\\end{aligned}$$\n",
    "\n",
    "Plugging numbers we get:\n",
    "\n",
    "$$P(g \\geq 2 | g \\geq 1) =  0.3875$$\n"
   ]
  },
  {
   "attachments": {},
   "cell_type": "markdown",
   "metadata": {},
   "source": [
    "## Right solution:\n",
    "\n",
    "In order to answer the question we can recast it in the following way: if I pick a random girl in the pool of kids, what are the chances that she belongs in a family with more than 2 girls? This can be computed as a ratio between the number of girls that satisfy the hypothesis $N(g \\geq 2)$ and the total number of girls $N(g)$"
   ]
  },
  {
   "cell_type": "code",
   "execution_count": 330,
   "metadata": {},
   "outputs": [],
   "source": [
    "prob_distribution_base={0: 0.3, 1: 0.25, 2: 0.2, 3: 0.15, 4: 0.1, 5: 0}"
   ]
  },
  {
   "cell_type": "code",
   "execution_count": 331,
   "metadata": {},
   "outputs": [],
   "source": [
    "prob_distribution = {0: 0.1, 1: 0.0, 2: 0.0, 3: 0., 4: 0.9, 5: 0}\n"
   ]
  },
  {
   "cell_type": "code",
   "execution_count": 332,
   "metadata": {},
   "outputs": [
    {
     "name": "stdout",
     "output_type": "stream",
     "text": [
      "p1 =  0.84375 p2 =  0.61875 , probability =  0.7333333333333334\n"
     ]
    }
   ],
   "source": [
    "p1=(0.5*prob_distribution[1]+(1-0.5**2)*prob_distribution[2]+(1-0.5**3)*prob_distribution[3]+(1-0.5**4)*prob_distribution[4])\n",
    "p2=(0.5**2*prob_distribution[2]+(0.5**3)*4*prob_distribution[3]+(1-5*0.5**4)*prob_distribution[4])\n",
    "print('p1 = ', p1, 'p2 = ', p2, ', probability = ', p2/p1)"
   ]
  },
  {
   "cell_type": "code",
   "execution_count": 333,
   "metadata": {},
   "outputs": [],
   "source": [
    "num=  (1/3*  prob_distribution[2]+4/7*  prob_distribution[3]+11/15* prob_distribution[4])\n",
    "den=prob_distribution[1]*0.5+3./4. * prob_distribution[2]+ 7./8. * prob_distribution[3] + 14/15 * prob_distribution[4]"
   ]
  },
  {
   "cell_type": "code",
   "execution_count": 334,
   "metadata": {},
   "outputs": [
    {
     "data": {
      "text/plain": [
       "0.7857142857142856"
      ]
     },
     "execution_count": 334,
     "metadata": {},
     "output_type": "execute_result"
    }
   ],
   "source": [
    "num/den"
   ]
  },
  {
   "cell_type": "code",
   "execution_count": 335,
   "metadata": {},
   "outputs": [],
   "source": [
    "import random\n",
    "import pandas as pd\n",
    "import numpy as np\n",
    "from scipy.stats import binom\n"
   ]
  },
  {
   "cell_type": "code",
   "execution_count": 336,
   "metadata": {},
   "outputs": [
    {
     "data": {
      "text/plain": [
       "0.8750000000000001"
      ]
     },
     "execution_count": 336,
     "metadata": {},
     "output_type": "execute_result"
    }
   ],
   "source": [
    "p=0.5 #probability of a kid being boy/girl\n",
    "\n",
    "numerator=(2*binom.pmf(2,2,p)*prob_distribution[2]+prob_distribution[3]*(2*binom.pmf(2,3,p)+3*binom.pmf(3,3,p))+prob_distribution[4]*(2*binom.pmf(2,4,p)+3*binom.pmf(3,4,p)+4*binom.pmf(4,4,p)))\n",
    "denominator= 0.5*(prob_distribution[1]+2*prob_distribution[2]+3*prob_distribution[3]+4*prob_distribution[4])\n",
    "solution=numerator/denominator\n",
    "solution"
   ]
  },
  {
   "cell_type": "code",
   "execution_count": 350,
   "metadata": {},
   "outputs": [
    {
     "name": "stdout",
     "output_type": "stream",
     "text": [
      "0 0.1\n",
      "1 0.0\n",
      "2 0.0\n",
      "3 0.0\n",
      "4 0.9\n",
      "5 0\n"
     ]
    }
   ],
   "source": [
    "for n in prob_distribution.keys():\n",
    "    print(n, prob_distribution[n])"
   ]
  },
  {
   "cell_type": "code",
   "execution_count": 390,
   "metadata": {},
   "outputs": [],
   "source": [
    "def compute_solution(prob_distribution,p=0.5):\n",
    "    '''todo: rewrite in more general way'''\n",
    "    print(prob_distribution)\n",
    "    num=0\n",
    "    for n in prob_distribution.keys():\n",
    "        partial=0\n",
    "        for i in np.arange(2,n+1):\n",
    "            partial+=i*binom.pmf(i,n,p)\n",
    "        if n>=2:\n",
    "            aaa=partial*prob_distribution[n]\n",
    "            print('partial for n =', n , ' = ',aaa)\n",
    "            num+=aaa\n",
    "    print('numerator =',num)\n",
    "    den=0\n",
    "    for n in prob_distribution.keys():\n",
    "        den+=n*prob_distribution[n]\n",
    "    den=den*0.5\n",
    "    print('den=',den)\n",
    "    #numerator=(2*binom.pmf(2,2,p)*prob_distribution[2]+prob_distribution[3]*(2*binom.pmf(2,3,p)+3*binom.pmf(3,3,p))+prob_distribution[4]*(2*binom.pmf(2,4,p)+3*binom.pmf(3,4,p)+4*binom.pmf(4,4,p)))\n",
    "    #denominator= 0.5*(prob_distribution[1]+2*prob_distribution[2]+3*prob_distribution[3]+4*prob_distribution[4])\n",
    "    solution=num/den\n",
    "    print('numerator = {}\\ndenominator={}\\nsolution={}'.format(num,den,solution))\n",
    "    return solution\n"
   ]
  },
  {
   "cell_type": "code",
   "execution_count": 391,
   "metadata": {},
   "outputs": [
    {
     "name": "stdout",
     "output_type": "stream",
     "text": [
      "{0: 0.1, 1: 0.0, 2: 0.0, 3: 0.0, 4: 0.9, 5: 0}\n",
      "partial for n = 2  =  0.0\n",
      "partial for n = 3  =  0.0\n",
      "partial for n = 4  =  1.5750000000000002\n",
      "partial for n = 5  =  0.0\n",
      "numerator = 1.5750000000000002\n",
      "den= 1.8\n",
      "numerator = 1.5750000000000002\n",
      "denominator=1.8\n",
      "solution=0.8750000000000001\n"
     ]
    }
   ],
   "source": [
    "compute_solution(prob_distribution=prob_distribution)"
   ]
  },
  {
   "cell_type": "code",
   "execution_count": 339,
   "metadata": {},
   "outputs": [
    {
     "name": "stdout",
     "output_type": "stream",
     "text": [
      "[0 1 2 3 4]\n",
      "0.0625\n",
      "0.3125\n",
      "0.6875\n",
      "0.9375\n",
      "1.0\n",
      "\n",
      "\n",
      "0.0625\n",
      "0.25\n",
      "0.375\n",
      "0.25000000000000006\n",
      "0.0625\n"
     ]
    }
   ],
   "source": [
    "n=4\n",
    "x=np.arange(0,n+1)\n",
    "print(x)\n",
    "for i in x:\n",
    "    print( binom.cdf(i, n, p))\n",
    "print('\\n')\n",
    "for i in x:\n",
    "    print( binom.pmf(i, n, p))"
   ]
  },
  {
   "attachments": {},
   "cell_type": "markdown",
   "metadata": {},
   "source": [
    "## Simulation:"
   ]
  },
  {
   "attachments": {},
   "cell_type": "markdown",
   "metadata": {},
   "source": [
    "Now let's check if the result is right with a simple simullation:"
   ]
  },
  {
   "cell_type": "code",
   "execution_count": 340,
   "metadata": {},
   "outputs": [],
   "source": [
    "def generate_sample(probdict,sample_size=100000):\n",
    "    families = []\n",
    "    for i in range(sample_size):\n",
    "        n_children = random.choices(list(prob_distribution.keys()), weights=list(prob_distribution.values()))[0]\n",
    "        family = {\"n_children\": n_children}\n",
    "        if n_children > 0:\n",
    "            family[\"n_girls\"] =  np.random.binomial(n_children, 0.5)# the sex of each child is basically a coin toss, therefore we need to use a binomial distribution\n",
    "            family[\"n_boys\"] = n_children - family[\"n_girls\"]\n",
    "        else:\n",
    "            family[\"n_girls\"]=0\n",
    "            family[\"n_boys\"]=0\n",
    "        families.append(family)\n",
    "    return pd.DataFrame.from_dict(families)\n",
    "\n"
   ]
  },
  {
   "cell_type": "code",
   "execution_count": 341,
   "metadata": {},
   "outputs": [],
   "source": [
    "df=generate_sample(prob_distribution,1000000)\n",
    "\n"
   ]
  },
  {
   "cell_type": "code",
   "execution_count": 342,
   "metadata": {},
   "outputs": [
    {
     "data": {
      "text/plain": [
       "array([[<AxesSubplot: title={'center': 'n_children'}>,\n",
       "        <AxesSubplot: title={'center': 'n_girls'}>],\n",
       "       [<AxesSubplot: title={'center': 'n_boys'}>, <AxesSubplot: >]],\n",
       "      dtype=object)"
      ]
     },
     "execution_count": 342,
     "metadata": {},
     "output_type": "execute_result"
    },
    {
     "data": {
      "image/png": "[encoded data removed]",
      "text/plain": [
       "<Figure size 640x480 with 4 Axes>"
      ]
     },
     "metadata": {},
     "output_type": "display_data"
    }
   ],
   "source": [
    "df.hist()"
   ]
  },
  {
   "cell_type": "code",
   "execution_count": 349,
   "metadata": {},
   "outputs": [
    {
     "data": {
      "text/plain": [
       "array([[<AxesSubplot: title={'center': 'n_children'}>,\n",
       "        <AxesSubplot: title={'center': 'n_girls'}>],\n",
       "       [<AxesSubplot: title={'center': 'n_boys'}>, <AxesSubplot: >]],\n",
       "      dtype=object)"
      ]
     },
     "execution_count": 349,
     "metadata": {},
     "output_type": "execute_result"
    },
    {
     "data": {
      "image/png": "[encoded data removed]",
      "text/plain": [
       "<Figure size 640x480 with 4 Axes>"
      ]
     },
     "metadata": {},
     "output_type": "display_data"
    }
   ],
   "source": [
    "df[df['n_children']==4].hist()"
   ]
  },
  {
   "cell_type": "code",
   "execution_count": 344,
   "metadata": {},
   "outputs": [],
   "source": [
    "twogirls=df[df['n_girls']>=2].count()\n",
    "onegirl=df[df['n_girls']>=1].count()\n"
   ]
  },
  {
   "cell_type": "code",
   "execution_count": 345,
   "metadata": {},
   "outputs": [
    {
     "data": {
      "text/plain": [
       "1575043"
      ]
     },
     "execution_count": 345,
     "metadata": {},
     "output_type": "execute_result"
    }
   ],
   "source": [
    "#girls in families with more than 1 girl\n",
    "g2=df[df['n_girls']>=2].sum()['n_girls']\n",
    "g2"
   ]
  },
  {
   "cell_type": "code",
   "execution_count": 346,
   "metadata": {},
   "outputs": [
    {
     "data": {
      "text/plain": [
       "1799639"
      ]
     },
     "execution_count": 346,
     "metadata": {},
     "output_type": "execute_result"
    }
   ],
   "source": [
    "\n",
    "totalgirls=df.sum()['n_girls']\n",
    "totalgirls"
   ]
  },
  {
   "cell_type": "code",
   "execution_count": 347,
   "metadata": {},
   "outputs": [
    {
     "data": {
      "text/plain": [
       "0.8751994149937848"
      ]
     },
     "execution_count": 347,
     "metadata": {},
     "output_type": "execute_result"
    }
   ],
   "source": [
    "g2/totalgirls"
   ]
  },
  {
   "cell_type": "code",
   "execution_count": 348,
   "metadata": {},
   "outputs": [
    {
     "data": {
      "text/plain": [
       "0.7337443022518331"
      ]
     },
     "execution_count": 348,
     "metadata": {},
     "output_type": "execute_result"
    }
   ],
   "source": [
    "ratio=twogirls[0]/onegirl[0]\n",
    "ratio"
   ]
  }
 ],
 "metadata": {
  "kernelspec": {
   "display_name": "scr",
   "language": "python",
   "name": "python3"
  },
  "language_info": {
   "codemirror_mode": {
    "name": "ipython",
    "version": 3
   },
   "file_extension": ".py",
   "mimetype": "text/x-python",
   "name": "python",
   "nbconvert_exporter": "python",
   "pygments_lexer": "ipython3",
   "version": "3.10.6"
  },
  "orig_nbformat": 4,
  "vscode": {
   "interpreter": {
    "hash": "1bcc1be35dd13877cdafc6e42014e3abe18f82ea84a3785f5f9f3859a2165137"
   }
  }
 },
 "nbformat": 4,
 "nbformat_minor": 2
}
