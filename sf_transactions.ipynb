{
 "cells": [
  {
   "attachments": {},
   "cell_type": "markdown",
   "metadata": {},
   "source": [
    "https://platform.stratascratch.com/coding/10319-monthly-percentage-difference?code_type=2\n",
    "\n",
    "Given a table of purchases by date, calculate the month-over-month percentage change in revenue. The output should include the year-month date (YYYY-MM) and percentage change, rounded to the 2nd decimal point, and sorted from the beginning of the year to the end of the year.\n",
    "\n",
    "The percentage change column will be populated from the 2nd month forward and can be calculated as ((this month's revenue - last month's revenue) / last month's revenue)*100"
   ]
  },
  {
   "attachments": {},
   "cell_type": "markdown",
   "metadata": {},
   "source": [
    "Load dataframe"
   ]
  },
  {
   "cell_type": "code",
   "execution_count": 7,
   "metadata": {},
   "outputs": [
    {
     "name": "stdout",
     "output_type": "stream",
     "text": [
      "    id          created_at   value  purchase_id\n",
      "0    1 2019-01-01 01:00:40  172692           43\n",
      "1    2 2019-01-05 00:00:00  177194           36\n",
      "2    3 2019-01-09 00:00:00  109513           30\n",
      "3    4 2019-01-13 00:00:00  164911           30\n",
      "4    5 2019-01-17 00:00:00  198872           39\n",
      "..  ..                 ...     ...          ...\n",
      "87  88 2019-12-15 00:00:00  187243           36\n",
      "88  89 2019-12-19 00:00:00  152538           20\n",
      "89  90 2019-12-23 00:00:00  178861           34\n",
      "90  91 2019-12-27 00:00:00  122675           30\n",
      "91  92 2019-12-31 00:00:00  104037           18\n",
      "\n",
      "[92 rows x 4 columns]\n",
      "id                      int64\n",
      "created_at     datetime64[ns]\n",
      "value                   int64\n",
      "purchase_id             int64\n",
      "dtype: object\n"
     ]
    }
   ],
   "source": [
    "import pandas as pd\n",
    "sf_transactions= pd.read_csv('sf_transactions.csv', sep='\\t')\n",
    "sf_transactions['created_at']=pd.to_datetime(sf_transactions['created_at'],infer_datetime_format=False) #convert column to a datetime object for better usability\n",
    "\n",
    "print(sf_transactions)\n",
    "print(sf_transactions.dtypes)"
   ]
  },
  {
   "attachments": {},
   "cell_type": "markdown",
   "metadata": {},
   "source": [
    "Group by month:"
   ]
  },
  {
   "cell_type": "code",
   "execution_count": 5,
   "metadata": {},
   "outputs": [
    {
     "data": {
      "text/html": [
       "<div>\n",
       "<style scoped>\n",
       "    .dataframe tbody tr th:only-of-type {\n",
       "        vertical-align: middle;\n",
       "    }\n",
       "\n",
       "    .dataframe tbody tr th {\n",
       "        vertical-align: top;\n",
       "    }\n",
       "\n",
       "    .dataframe thead th {\n",
       "        text-align: right;\n",
       "    }\n",
       "</style>\n",
       "<table border=\"1\" class=\"dataframe\">\n",
       "  <thead>\n",
       "    <tr style=\"text-align: right;\">\n",
       "      <th></th>\n",
       "      <th>created_at</th>\n",
       "      <th>value</th>\n",
       "    </tr>\n",
       "  </thead>\n",
       "  <tbody>\n",
       "    <tr>\n",
       "      <th>0</th>\n",
       "      <td>2019-01-31</td>\n",
       "      <td>1332636</td>\n",
       "    </tr>\n",
       "    <tr>\n",
       "      <th>1</th>\n",
       "      <td>2019-02-28</td>\n",
       "      <td>952031</td>\n",
       "    </tr>\n",
       "    <tr>\n",
       "      <th>2</th>\n",
       "      <td>2019-03-31</td>\n",
       "      <td>1174373</td>\n",
       "    </tr>\n",
       "    <tr>\n",
       "      <th>3</th>\n",
       "      <td>2019-04-30</td>\n",
       "      <td>1011869</td>\n",
       "    </tr>\n",
       "    <tr>\n",
       "      <th>4</th>\n",
       "      <td>2019-05-31</td>\n",
       "      <td>1148390</td>\n",
       "    </tr>\n",
       "    <tr>\n",
       "      <th>5</th>\n",
       "      <td>2019-06-30</td>\n",
       "      <td>1116470</td>\n",
       "    </tr>\n",
       "    <tr>\n",
       "      <th>6</th>\n",
       "      <td>2019-07-31</td>\n",
       "      <td>1049530</td>\n",
       "    </tr>\n",
       "    <tr>\n",
       "      <th>7</th>\n",
       "      <td>2019-08-31</td>\n",
       "      <td>1347176</td>\n",
       "    </tr>\n",
       "    <tr>\n",
       "      <th>8</th>\n",
       "      <td>2019-09-30</td>\n",
       "      <td>1280233</td>\n",
       "    </tr>\n",
       "    <tr>\n",
       "      <th>9</th>\n",
       "      <td>2019-10-31</td>\n",
       "      <td>1117846</td>\n",
       "    </tr>\n",
       "    <tr>\n",
       "      <th>10</th>\n",
       "      <td>2019-11-30</td>\n",
       "      <td>1137016</td>\n",
       "    </tr>\n",
       "    <tr>\n",
       "      <th>11</th>\n",
       "      <td>2019-12-31</td>\n",
       "      <td>1113028</td>\n",
       "    </tr>\n",
       "  </tbody>\n",
       "</table>\n",
       "</div>"
      ],
      "text/plain": [
       "   created_at    value\n",
       "0  2019-01-31  1332636\n",
       "1  2019-02-28   952031\n",
       "2  2019-03-31  1174373\n",
       "3  2019-04-30  1011869\n",
       "4  2019-05-31  1148390\n",
       "5  2019-06-30  1116470\n",
       "6  2019-07-31  1049530\n",
       "7  2019-08-31  1347176\n",
       "8  2019-09-30  1280233\n",
       "9  2019-10-31  1117846\n",
       "10 2019-11-30  1137016\n",
       "11 2019-12-31  1113028"
      ]
     },
     "execution_count": 5,
     "metadata": {},
     "output_type": "execute_result"
    }
   ],
   "source": [
    "groupbymonth=sf_transactions.groupby(pd.Grouper(key='created_at',freq='M')).sum().reset_index()[['created_at','value']]\n",
    "groupbymonth"
   ]
  },
  {
   "attachments": {},
   "cell_type": "markdown",
   "metadata": {},
   "source": [
    "Compute percent change: there exist a pandas function that does exactly that:"
   ]
  },
  {
   "cell_type": "code",
   "execution_count": 9,
   "metadata": {},
   "outputs": [
    {
     "data": {
      "text/html": [
       "<div>\n",
       "<style scoped>\n",
       "    .dataframe tbody tr th:only-of-type {\n",
       "        vertical-align: middle;\n",
       "    }\n",
       "\n",
       "    .dataframe tbody tr th {\n",
       "        vertical-align: top;\n",
       "    }\n",
       "\n",
       "    .dataframe thead th {\n",
       "        text-align: right;\n",
       "    }\n",
       "</style>\n",
       "<table border=\"1\" class=\"dataframe\">\n",
       "  <thead>\n",
       "    <tr style=\"text-align: right;\">\n",
       "      <th></th>\n",
       "      <th>created_at</th>\n",
       "      <th>revenue_diff_pct</th>\n",
       "    </tr>\n",
       "  </thead>\n",
       "  <tbody>\n",
       "    <tr>\n",
       "      <th>0</th>\n",
       "      <td>2019-01-31</td>\n",
       "      <td>NaN</td>\n",
       "    </tr>\n",
       "    <tr>\n",
       "      <th>1</th>\n",
       "      <td>2019-02-28</td>\n",
       "      <td>-0.285603</td>\n",
       "    </tr>\n",
       "    <tr>\n",
       "      <th>2</th>\n",
       "      <td>2019-03-31</td>\n",
       "      <td>0.233545</td>\n",
       "    </tr>\n",
       "    <tr>\n",
       "      <th>3</th>\n",
       "      <td>2019-04-30</td>\n",
       "      <td>-0.138375</td>\n",
       "    </tr>\n",
       "    <tr>\n",
       "      <th>4</th>\n",
       "      <td>2019-05-31</td>\n",
       "      <td>0.134920</td>\n",
       "    </tr>\n",
       "    <tr>\n",
       "      <th>5</th>\n",
       "      <td>2019-06-30</td>\n",
       "      <td>-0.027795</td>\n",
       "    </tr>\n",
       "    <tr>\n",
       "      <th>6</th>\n",
       "      <td>2019-07-31</td>\n",
       "      <td>-0.059957</td>\n",
       "    </tr>\n",
       "    <tr>\n",
       "      <th>7</th>\n",
       "      <td>2019-08-31</td>\n",
       "      <td>0.283599</td>\n",
       "    </tr>\n",
       "    <tr>\n",
       "      <th>8</th>\n",
       "      <td>2019-09-30</td>\n",
       "      <td>-0.049691</td>\n",
       "    </tr>\n",
       "    <tr>\n",
       "      <th>9</th>\n",
       "      <td>2019-10-31</td>\n",
       "      <td>-0.126842</td>\n",
       "    </tr>\n",
       "    <tr>\n",
       "      <th>10</th>\n",
       "      <td>2019-11-30</td>\n",
       "      <td>0.017149</td>\n",
       "    </tr>\n",
       "    <tr>\n",
       "      <th>11</th>\n",
       "      <td>2019-12-31</td>\n",
       "      <td>-0.021097</td>\n",
       "    </tr>\n",
       "  </tbody>\n",
       "</table>\n",
       "</div>"
      ],
      "text/plain": [
       "   created_at  revenue_diff_pct\n",
       "0  2019-01-31               NaN\n",
       "1  2019-02-28         -0.285603\n",
       "2  2019-03-31          0.233545\n",
       "3  2019-04-30         -0.138375\n",
       "4  2019-05-31          0.134920\n",
       "5  2019-06-30         -0.027795\n",
       "6  2019-07-31         -0.059957\n",
       "7  2019-08-31          0.283599\n",
       "8  2019-09-30         -0.049691\n",
       "9  2019-10-31         -0.126842\n",
       "10 2019-11-30          0.017149\n",
       "11 2019-12-31         -0.021097"
      ]
     },
     "execution_count": 9,
     "metadata": {},
     "output_type": "execute_result"
    }
   ],
   "source": [
    "groupbymonth['revenue_diff_pct']=groupbymonth['value'].pct_change()\n",
    "pct_change=groupbymonth[['created_at','revenue_diff_pct']]\n",
    "pct_change\n",
    "#todo: only display year, date in the date column, round revenue_diff_pct to second digit\n"
   ]
  }
 ],
 "metadata": {
  "kernelspec": {
   "display_name": "base",
   "language": "python",
   "name": "python3"
  },
  "language_info": {
   "codemirror_mode": {
    "name": "ipython",
    "version": 3
   },
   "file_extension": ".py",
   "mimetype": "text/x-python",
   "name": "python",
   "nbconvert_exporter": "python",
   "pygments_lexer": "ipython3",
   "version": "3.8.8"
  },
  "orig_nbformat": 4,
  "vscode": {
   "interpreter": {
    "hash": "68b83d36125722a4cfa54faf6473e9cfaf94e2e30a32ae0e02287cb9789563ab"
   }
  }
 },
 "nbformat": 4,
 "nbformat_minor": 2
}
