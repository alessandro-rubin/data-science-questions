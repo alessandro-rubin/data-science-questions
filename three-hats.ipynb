{
 "cells": [
  {
   "cell_type": "markdown",
   "metadata": {},
   "source": [
    "From problem 5 of https://www.math.ucdavis.edu/~gravner/MAT135A/resources/chpr.pdf"
   ]
  },
  {
   "cell_type": "markdown",
   "metadata": {},
   "source": [
    "Three players enter a room and a red or blue hat is placed on each person’s head.\n",
    "The color of each hat is determined by [an independent] coin toss. No communication\n",
    "of any sort is allowed, except for an initial strategy session before the game begins.\n",
    "Once they have had a chance to look at the other hats [but not their own], the\n",
    "players must simultaneously guess the color of their own hats or pass. The puzzle\n",
    "is to find a group strategy that maximizes the probability that at least one person\n",
    "guesses correctly and no-one guesses incorrectly"
   ]
  },
  {
   "cell_type": "markdown",
   "metadata": {},
   "source": [
    "For the first question, here is the strategy. If you see same colors, guess the color you do\n",
    "not see. If you see different colors, pass. The probability of a win is then 3/4. (Maximizing the\n",
    "probability in this context is a difficult problem for a large number of people.)"
   ]
  },
  {
   "cell_type": "code",
   "execution_count": 3,
   "metadata": {},
   "outputs": [],
   "source": [
    "import random"
   ]
  },
  {
   "cell_type": "code",
   "execution_count": 4,
   "metadata": {},
   "outputs": [],
   "source": [
    "hat_colors=['blue','red']\n"
   ]
  },
  {
   "cell_type": "code",
   "execution_count": 5,
   "metadata": {},
   "outputs": [
    {
     "name": "stdout",
     "output_type": "stream",
     "text": [
      "red\n"
     ]
    }
   ],
   "source": [
    "print(random.sample(hat_colors,k=1)[0])"
   ]
  },
  {
   "cell_type": "code",
   "execution_count": 6,
   "metadata": {},
   "outputs": [],
   "source": [
    "def initialize_game():\n",
    "    '''initlalizes the game'''\n",
    "    dict={'p1':random.sample(hat_colors,k=1)[0],'p2':random.sample(hat_colors,k=1)[0],'p3':random.sample(hat_colors,k=1)[0]}\n",
    "    return dict"
   ]
  },
  {
   "cell_type": "code",
   "execution_count": 7,
   "metadata": {},
   "outputs": [],
   "source": [
    "def guesses(pdict:dict):\n",
    "    ''' generates the guesses of te players\n",
    "     given the logic above'''\n",
    "    guesses={}\n",
    "    for player in pdict.keys():\n",
    "        # generate list of other 2 values, check if elements are equal, return the other color\n",
    "        other_players=[p for p in list(pdict.keys()) if p != player]\n",
    "        '''is there a better method? probably.'''\n",
    "        colors=[pdict[p] for p in other_players]\n",
    "        if([colors[0]]*len(colors) == colors):\n",
    "            guesses[player]=[c for c in hat_colors if c != colors[0]][0]\n",
    "        else:\n",
    "            guesses[player]='pass'\n",
    "    return guesses"
   ]
  },
  {
   "cell_type": "code",
   "execution_count": 8,
   "metadata": {},
   "outputs": [],
   "source": [
    "#def check_guess(tupl):\n"
   ]
  },
  {
   "cell_type": "code",
   "execution_count": 9,
   "metadata": {},
   "outputs": [],
   "source": [
    "def play_game(verbose=False):\n",
    "    players=initialize_game()\n",
    "    if verbose:\n",
    "        print('players: ', players)\n",
    "\n",
    "    player_guesses=guesses(players)\n",
    "    if verbose:\n",
    "        print('guesses: ', player_guesses)\n",
    "    '''then check if all players either guessed right or passed\n",
    "    note: it is impossible that all 3 players passed'''\n",
    "    i=1\n",
    "    for a in zip(players.values(),player_guesses.values()):\n",
    "        if a[0]==a[1] or a[0]=='pass' or a[1]=='pass':\n",
    "            i*=1\n",
    "        else:\n",
    "            i*=0\n",
    "    if verbose:\n",
    "        if i:\n",
    "            print('Game won')\n",
    "        else:\n",
    "            print('Game lost')\n",
    "    return i\n"
   ]
  },
  {
   "cell_type": "code",
   "execution_count": 10,
   "metadata": {},
   "outputs": [],
   "source": [
    "def main(ntries=10000,verbose=False):\n",
    "    wins=0\n",
    "    for i in range(ntries):\n",
    "        wins+=play_game(verbose=verbose)\n",
    "    print('Win ratio: ',wins/ntries)"
   ]
  },
  {
   "cell_type": "code",
   "execution_count": 11,
   "metadata": {},
   "outputs": [
    {
     "name": "stdout",
     "output_type": "stream",
     "text": [
      "Win ratio:  0.7495\n"
     ]
    }
   ],
   "source": [
    "main(ntries=100000,verbose=False)"
   ]
  }
 ],
 "metadata": {
  "kernelspec": {
   "display_name": "Python 3.10.7 ('tf')",
   "language": "python",
   "name": "python3"
  },
  "language_info": {
   "codemirror_mode": {
    "name": "ipython",
    "version": 3
   },
   "file_extension": ".py",
   "mimetype": "text/x-python",
   "name": "python",
   "nbconvert_exporter": "python",
   "pygments_lexer": "ipython3",
   "version": "3.10.7 | packaged by conda-forge | (main, Nov 21 2022, 13:11:14) [MSC v.1929 64 bit (AMD64)]"
  },
  "orig_nbformat": 4,
  "vscode": {
   "interpreter": {
    "hash": "33a2e84c581f807a98512e14b5d3ba9d677e9d077bd64ce3b8213804b8999a19"
   }
  }
 },
 "nbformat": 4,
 "nbformat_minor": 2
}
